{
 "cells": [
  {
   "cell_type": "code",
   "execution_count": 2,
   "metadata": {},
   "outputs": [],
   "source": [
    "import random\n",
    "import time\n",
    "import matplotlib.pyplot as plt\n",
    "import functools\n",
    "import numpy as np\n",
    "from scipy.optimize import curve_fit"
   ]
  },
  {
   "cell_type": "code",
   "execution_count": 515,
   "metadata": {},
   "outputs": [],
   "source": [
    "def var(event,w):\n",
    "    vars = []\n",
    "    vars.extend([i for i in range(event, event + len(w))])\n",
    "    return set(vars)\n",
    "\n",
    "def bad_events(string,w):\n",
    "    bad = set()\n",
    "    for i in range(len(string)):\n",
    "        if (i + len(w)) <= len(string):\n",
    "            if string[i : i + len(w)] == w:\n",
    "                bad.add(i)\n",
    "    return bad\n",
    "\n",
    "def boundary(R,string,w):\n",
    "    bound = set()\n",
    "    for i in range(len(string) - len(w)+1):\n",
    "        for j in R:\n",
    "            if not(var(i,w).isdisjoint(var(j,w))) and  (i not in R):\n",
    "                bound.add(i)\n",
    "    return bound"
   ]
  },
  {
   "cell_type": "code",
   "execution_count": 516,
   "metadata": {},
   "outputs": [],
   "source": [
    "def resample(string,w):\n",
    "    N = set()\n",
    "    R = bad_events(string,w)\n",
    "    \n",
    "    #Determine resampled events\n",
    "    while (boundary(R,string,w) - N) != set():\n",
    "        flag = True\n",
    "\n",
    "        sigmaR = set()\n",
    "        for i in R:\n",
    "            sigmaR |= var(i,w)\n",
    "\n",
    "        for i in (boundary(R,string,w) - N):\n",
    "\n",
    "            index_check = []\n",
    "            blocking_string = \"\"\n",
    "            for j in sorted(list(var(i,w) & sigmaR)):\n",
    "                index_check.append(j)\n",
    "                blocking_string += string[j]\n",
    "\n",
    "\n",
    "            if i != index_check[0]:\n",
    "                blocking_string = w[:len(w) - len(blocking_string)] + blocking_string\n",
    "                index_check = [j for j in range(i, index_check[0])] + index_check\n",
    "            elif i == index_check[0] and len(index_check) < len(w):\n",
    "                blocking_string += w[len(blocking_string):]\n",
    "\n",
    "\n",
    "            if blocking_string == w: #agrees not blocked\n",
    "                flag = True\n",
    "            else:\n",
    "                flag = False\n",
    "\n",
    "\n",
    "            if ((var(i,w) & sigmaR) != set()) and flag:\n",
    "                R.add(i)\n",
    "            else:\n",
    "                N.add(i)\n",
    "\n",
    "    return R\n"
   ]
  },
  {
   "cell_type": "code",
   "execution_count": 517,
   "metadata": {},
   "outputs": [],
   "source": [
    "def sampler(alphabet,string,w):\n",
    "    wfstring = list(string)\n",
    "    round = 0\n",
    "    while bad_events(''.join(wfstring),w) != set():\n",
    "        round += 1\n",
    "        for i in resample(''.join(wfstring),w):\n",
    "            for j in var(i,w):\n",
    "                 wfstring[j] = alphabet[random.randint(0,len(alphabet)-1)]\n",
    "\n",
    "    return (''.join(wfstring), round)"
   ]
  },
  {
   "cell_type": "code",
   "execution_count": 518,
   "metadata": {},
   "outputs": [],
   "source": [
    "def randstring(alphabet,length):\n",
    "    string = \"\"\n",
    "    for i in range(length):\n",
    "        string +=  str(alphabet[random.randint(0,len(alphabet)-1)])\n",
    "    return string"
   ]
  },
  {
   "cell_type": "code",
   "execution_count": 543,
   "metadata": {},
   "outputs": [],
   "source": [
    "def runtime(alph,w,low,high,skip,average):\n",
    "    avg_rounds = []\n",
    "    string_len = [i for i in range(low,high,skip)]\n",
    "    for n in range(low,high,skip):\n",
    "        rounds = []\n",
    "        for m in range(average):\n",
    "            x,y = sampler(alph,randstring(alph,n),w)\n",
    "            rounds.append(y)\n",
    "        avg_rounds.append(functools.reduce(lambda x,y: x + y, rounds)/len(rounds))\n",
    "        print(n)\n",
    "    return (string_len,avg_rounds)"
   ]
  },
  {
   "cell_type": "code",
   "execution_count": 589,
   "metadata": {},
   "outputs": [],
   "source": [
    "def sampling_factory(max,sampler,alph,string,w):\n",
    "    w_strings = []\n",
    "    for i in range(max):\n",
    "        s,r = sampler(alph,string,w)\n",
    "        w_strings.append(s)\n",
    "\n",
    "    sfrequency = []\n",
    "\n",
    "    skip = []\n",
    "    for i in range(len(w_strings)):\n",
    "        if w_strings[i] in skip:\n",
    "            continue\n",
    "        else:\n",
    "            sequal = [w_strings[i]]\n",
    "            for j in range(i+1,len(w_strings)):\n",
    "                if w_strings[j] == w_strings[i]:\n",
    "                    sequal.append(w_strings[j])\n",
    "                    skip.append(w_strings[j])\n",
    "            sfrequency.append(sequal)\n",
    "    \n",
    "    return sfrequency"
   ]
  },
  {
   "cell_type": "code",
   "execution_count": 557,
   "metadata": {},
   "outputs": [],
   "source": [
    "alph = \"0123\"\n",
    "w = \"101\""
   ]
  },
  {
   "cell_type": "code",
   "execution_count": 558,
   "metadata": {},
   "outputs": [
    {
     "name": "stdout",
     "output_type": "stream",
     "text": [
      "192\n",
      "384\n",
      "576\n",
      "768\n",
      "960\n",
      "1152\n",
      "1344\n",
      "1536\n",
      "1728\n",
      "1920\n",
      "2112\n",
      "2304\n",
      "2496\n",
      "2688\n",
      "2880\n",
      "3072\n",
      "3264\n",
      "3456\n",
      "3648\n"
     ]
    }
   ],
   "source": [
    "n5,t5 = runtime(alph,w,192,192 * 20,192,20)"
   ]
  },
  {
   "cell_type": "code",
   "execution_count": 559,
   "metadata": {},
   "outputs": [
    {
     "data": {
      "image/png": "[encoded data removed]",
      "text/plain": [
       "<Figure size 432x288 with 1 Axes>"
      ]
     },
     "metadata": {},
     "output_type": "display_data"
    }
   ],
   "source": [
    "plt.plot(n5,t5, 'ro')\n",
    "plt.xlabel(\"String length\")\n",
    "plt.ylabel(\"Resampling Rounds\")\n",
    "plt.savefig('Rounds vs length of string', dpi = 1200)"
   ]
  },
  {
   "cell_type": "code",
   "execution_count": 560,
   "metadata": {},
   "outputs": [
    {
     "name": "stdout",
     "output_type": "stream",
     "text": [
      "256\n",
      "512\n",
      "768\n",
      "1024\n",
      "1280\n",
      "1536\n",
      "1792\n",
      "2048\n",
      "2304\n",
      "2560\n",
      "2816\n",
      "3072\n",
      "3328\n",
      "3584\n",
      "3840\n",
      "4096\n",
      "4352\n",
      "4608\n",
      "4864\n"
     ]
    }
   ],
   "source": [
    "n6,t6 = runtime(\"0123\",\"1001\",256,256*20,256,20)"
   ]
  },
  {
   "cell_type": "code",
   "execution_count": 561,
   "metadata": {},
   "outputs": [
    {
     "data": {
      "text/plain": [
       "Text(0,0.5,'Resampling Rounds')"
      ]
     },
     "execution_count": 561,
     "metadata": {},
     "output_type": "execute_result"
    },
    {
     "data": {
      "image/png": "[encoded data removed]",
      "text/plain": [
       "<Figure size 432x288 with 1 Axes>"
      ]
     },
     "metadata": {},
     "output_type": "display_data"
    }
   ],
   "source": [
    "plt.plot(n6,t6, 'ro')\n",
    "plt.xlabel(\"String length\")\n",
    "plt.ylabel(\"Resampling Rounds\")"
   ]
  },
  {
   "cell_type": "markdown",
   "metadata": {},
   "source": [
    "n = w * sig^w * C"
   ]
  },
  {
   "cell_type": "code",
   "execution_count": 566,
   "metadata": {},
   "outputs": [
    {
     "name": "stdout",
     "output_type": "stream",
     "text": [
      "81\n",
      "162\n",
      "243\n",
      "324\n",
      "405\n",
      "486\n",
      "567\n",
      "648\n",
      "729\n",
      "810\n",
      "891\n",
      "972\n",
      "1053\n",
      "1134\n",
      "1215\n",
      "1296\n",
      "1377\n",
      "1458\n",
      "1539\n"
     ]
    }
   ],
   "source": [
    "n7,t7 = runtime(\"012\",\"101\",81,81*20,81,20)"
   ]
  },
  {
   "cell_type": "code",
   "execution_count": 569,
   "metadata": {},
   "outputs": [
    {
     "data": {
      "image/png": "[encoded data removed]",
      "text/plain": [
       "<Figure size 432x288 with 1 Axes>"
      ]
     },
     "metadata": {},
     "output_type": "display_data"
    }
   ],
   "source": [
    "plt.plot(n7,t7,'ro')\n",
    "plt.xlabel(\"String Length\")\n",
    "plt.ylabel(\"Amount of Resamples\")\n",
    "plt.savefig('Sigma = 3 and w = 3', dpi = 1200)"
   ]
  },
  {
   "cell_type": "code",
   "execution_count": 572,
   "metadata": {},
   "outputs": [
    {
     "name": "stdout",
     "output_type": "stream",
     "text": [
      "324\n",
      "648\n",
      "972\n",
      "1296\n",
      "1620\n",
      "1944\n",
      "2268\n",
      "2592\n",
      "2916\n",
      "3240\n",
      "3564\n",
      "3888\n",
      "4212\n",
      "4536\n",
      "4860\n",
      "5184\n",
      "5508\n",
      "5832\n",
      "6156\n"
     ]
    }
   ],
   "source": [
    "n8,t8 = runtime(\"012\",\"1001\",324,324*20,324,20)"
   ]
  },
  {
   "cell_type": "code",
   "execution_count": 574,
   "metadata": {},
   "outputs": [
    {
     "data": {
      "text/plain": [
       "[<matplotlib.lines.Line2D at 0x1a7172b99e8>]"
      ]
     },
     "execution_count": 574,
     "metadata": {},
     "output_type": "execute_result"
    },
    {
     "data": {
      "image/png": "[encoded data removed]",
      "text/plain": [
       "<Figure size 432x288 with 1 Axes>"
      ]
     },
     "metadata": {},
     "output_type": "display_data"
    }
   ],
   "source": [
    "plt.plot(n8,t8,'ro')"
   ]
  },
  {
   "cell_type": "code",
   "execution_count": 575,
   "metadata": {},
   "outputs": [
    {
     "name": "stdout",
     "output_type": "stream",
     "text": [
      "24\n",
      "48\n",
      "72\n",
      "96\n",
      "120\n",
      "144\n",
      "168\n",
      "192\n",
      "216\n",
      "240\n",
      "264\n",
      "288\n",
      "312\n",
      "336\n",
      "360\n",
      "384\n",
      "408\n",
      "432\n",
      "456\n"
     ]
    }
   ],
   "source": [
    "n9,t9 = runtime(\"01\",\"101\",24,24 * 20,24,20)"
   ]
  },
  {
   "cell_type": "code",
   "execution_count": 577,
   "metadata": {},
   "outputs": [
    {
     "data": {
      "text/plain": [
       "[<matplotlib.lines.Line2D at 0x1a716f427f0>]"
      ]
     },
     "execution_count": 577,
     "metadata": {},
     "output_type": "execute_result"
    },
    {
     "data": {
      "image/png": "[encoded data removed]",
      "text/plain": [
       "<Figure size 432x288 with 1 Axes>"
      ]
     },
     "metadata": {},
     "output_type": "display_data"
    }
   ],
   "source": [
    "plt.plot(n9,t9,'ro')"
   ]
  },
  {
   "cell_type": "code",
   "execution_count": 645,
   "metadata": {},
   "outputs": [
    {
     "name": "stdout",
     "output_type": "stream",
     "text": [
      "8\n",
      "16\n",
      "24\n",
      "32\n",
      "40\n",
      "48\n",
      "56\n",
      "64\n",
      "72\n",
      "80\n",
      "88\n",
      "96\n",
      "104\n",
      "112\n",
      "120\n",
      "128\n",
      "136\n",
      "144\n",
      "152\n",
      "160\n",
      "168\n",
      "176\n",
      "184\n",
      "192\n",
      "200\n",
      "208\n",
      "216\n",
      "224\n",
      "232\n",
      "240\n",
      "248\n",
      "256\n",
      "264\n",
      "272\n",
      "280\n",
      "288\n",
      "296\n",
      "304\n",
      "312\n",
      "320\n",
      "328\n",
      "336\n",
      "344\n",
      "352\n",
      "360\n",
      "368\n",
      "376\n",
      "384\n",
      "392\n",
      "400\n",
      "408\n",
      "416\n",
      "424\n",
      "432\n",
      "440\n",
      "448\n",
      "456\n",
      "464\n",
      "472\n"
     ]
    },
    {
     "data": {
      "text/plain": [
       "[<matplotlib.lines.Line2D at 0x1a716f7e470>]"
      ]
     },
     "execution_count": 645,
     "metadata": {},
     "output_type": "execute_result"
    },
    {
     "data": {
      "image/png": "[encoded data removed]",
      "text/plain": [
       "<Figure size 432x288 with 1 Axes>"
      ]
     },
     "metadata": {},
     "output_type": "display_data"
    }
   ],
   "source": [
    "n9,t9 = runtime(\"01\",\"11\",8,8 * 60,8,20)"
   ]
  },
  {
   "cell_type": "code",
   "execution_count": 671,
   "metadata": {},
   "outputs": [],
   "source": [
    "p = np.polyfit(np.log(t9),n9,1)\n",
    "a = np.linspace(8,480)"
   ]
  },
  {
   "cell_type": "code",
   "execution_count": 675,
   "metadata": {},
   "outputs": [
    {
     "data": {
      "text/plain": [
       "[<matplotlib.lines.Line2D at 0x1a71b428518>,\n",
       " <matplotlib.lines.Line2D at 0x1a71b4286a0>]"
      ]
     },
     "execution_count": 675,
     "metadata": {},
     "output_type": "execute_result"
    },
    {
     "data": {
      "image/png": "[encoded data removed]",
      "text/plain": [
       "<Figure size 432x288 with 1 Axes>"
      ]
     },
     "metadata": {},
     "output_type": "display_data"
    }
   ],
   "source": [
    "plt.plot(n9,t9,'ro',a,3.06808*np.log(a) - 4.53101)"
   ]
  },
  {
   "cell_type": "code",
   "execution_count": 581,
   "metadata": {
    "scrolled": true
   },
   "outputs": [
    {
     "name": "stdout",
     "output_type": "stream",
     "text": [
      "2\n",
      "4\n",
      "6\n",
      "8\n",
      "10\n",
      "12\n",
      "14\n",
      "16\n",
      "18\n",
      "20\n",
      "22\n",
      "24\n",
      "26\n",
      "28\n",
      "30\n",
      "32\n",
      "34\n",
      "36\n",
      "38\n"
     ]
    },
    {
     "data": {
      "text/plain": [
       "[<matplotlib.lines.Line2D at 0x1a7171b05c0>]"
      ]
     },
     "execution_count": 581,
     "metadata": {},
     "output_type": "execute_result"
    },
    {
     "data": {
      "image/png": "[encoded data removed]",
      "text/plain": [
       "<Figure size 432x288 with 1 Axes>"
      ]
     },
     "metadata": {},
     "output_type": "display_data"
    }
   ],
   "source": [
    "n10,t10 = runtime(\"01\",\"1\",2,2 * 20,2,20)\n",
    "plt.plot(n10,t10,'ro')"
   ]
  },
  {
   "cell_type": "markdown",
   "metadata": {},
   "source": [
    "Testing Distribution"
   ]
  },
  {
   "cell_type": "code",
   "execution_count": 641,
   "metadata": {},
   "outputs": [],
   "source": [
    "r = randstring('10',5)\n",
    "x = sampling_factory(3200,sampler,'10','10101','101')\n",
    "hist = []\n",
    "for i in x:\n",
    "    hist.append(len(i))"
   ]
  },
  {
   "cell_type": "code",
   "execution_count": 642,
   "metadata": {},
   "outputs": [
    {
     "data": {
      "text/plain": [
       "[<matplotlib.lines.Line2D at 0x1a719f62e10>]"
      ]
     },
     "execution_count": 642,
     "metadata": {},
     "output_type": "execute_result"
    },
    {
     "data": {
      "image/png": "[encoded data removed]",
      "text/plain": [
       "<Figure size 432x288 with 1 Axes>"
      ]
     },
     "metadata": {},
     "output_type": "display_data"
    }
   ],
   "source": [
    "plt.plot([i for i in range(len(hist))],hist,'ro')"
   ]
  }
 ],
 "metadata": {
  "kernelspec": {
   "display_name": "Python 3",
   "language": "python",
   "name": "python3"
  },
  "language_info": {
   "codemirror_mode": {
    "name": "ipython",
    "version": 3
   },
   "file_extension": ".py",
   "mimetype": "text/x-python",
   "name": "python",
   "nbconvert_exporter": "python",
   "pygments_lexer": "ipython3",
   "version": "3.6.5"
  }
 },
 "nbformat": 4,
 "nbformat_minor": 2
}
